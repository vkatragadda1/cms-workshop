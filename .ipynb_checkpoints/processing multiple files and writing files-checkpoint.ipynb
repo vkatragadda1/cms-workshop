{
 "cells": [
  {
   "cell_type": "code",
   "execution_count": 1,
   "metadata": {},
   "outputs": [
    {
     "name": "stdout",
     "output_type": "stream",
     "text": [
      "03_Prod.mdout              buckminsterfullerene.xyz\r\n",
      "Untitled.ipynb             distance_data_headers.csv\r\n",
      "Untitled1.ipynb            \u001b[34moutfiles\u001b[m\u001b[m/\r\n",
      "Untitled2.ipynb            sapt.out\r\n",
      "benzene.xyz                water.xyz\r\n"
     ]
    }
   ],
   "source": [
    "ls data"
   ]
  },
  {
   "cell_type": "code",
   "execution_count": 2,
   "metadata": {},
   "outputs": [
    {
     "data": {
      "text/plain": [
       "'/Users/Vaishnavi_Home/Desktop/cms-workshop'"
      ]
     },
     "execution_count": 2,
     "metadata": {},
     "output_type": "execute_result"
    }
   ],
   "source": [
    "pwd"
   ]
  },
  {
   "cell_type": "code",
   "execution_count": 3,
   "metadata": {},
   "outputs": [
    {
     "name": "stdout",
     "output_type": "stream",
     "text": [
      "data/outfiles/ethanol.out\n"
     ]
    }
   ],
   "source": [
    "import os\n",
    "\n",
    "ethanol_file = os.path.join('data', 'outfiles', 'ethanol.out')\n",
    "print(ethanol_file)"
   ]
  },
  {
   "cell_type": "code",
   "execution_count": 5,
   "metadata": {},
   "outputs": [],
   "source": [
    "outfile = open(ethanol_file,\"r\")\n",
    "data = outfile.readlines()"
   ]
  },
  {
   "cell_type": "code",
   "execution_count": 6,
   "metadata": {},
   "outputs": [],
   "source": [
    "outfile.close()"
   ]
  },
  {
   "cell_type": "code",
   "execution_count": 8,
   "metadata": {},
   "outputs": [],
   "source": [
    "with open(ethanol_file,\"r\") as outfile:\n",
    "    data = outfile.readlines()"
   ]
  },
  {
   "cell_type": "code",
   "execution_count": 9,
   "metadata": {},
   "outputs": [
    {
     "name": "stdout",
     "output_type": "stream",
     "text": [
      "270\n"
     ]
    }
   ],
   "source": [
    "print(len(data))"
   ]
  },
  {
   "cell_type": "code",
   "execution_count": 10,
   "metadata": {},
   "outputs": [
    {
     "name": "stdout",
     "output_type": "stream",
     "text": [
      "\n",
      "\n",
      "    -----------------------------------------------------------------------\n",
      "\n",
      "          Psi4: An Open-Source Ab Initio Electronic Structure Package\n",
      "\n",
      "                               Psi4 1.1 release\n",
      "\n",
      "\n",
      "\n",
      "                         Git: Rev {HEAD} add49b9 \n",
      "\n",
      "\n",
      "\n",
      "\n",
      "\n",
      "    R. M. Parrish, L. A. Burns, D. G. A. Smith, A. C. Simmonett,\n",
      "\n",
      "    A. E. DePrince III, E. G. Hohenstein, U. Bozkaya, A. Yu. Sokolov,\n",
      "\n",
      "    R. Di Remigio, R. M. Richard, J. F. Gonthier, A. M. James,\n",
      "\n",
      "    H. R. McAlexander, A. Kumar, M. Saitow, X. Wang, B. P. Pritchard,\n",
      "\n",
      "    P. Verma, H. F. Schaefer III, K. Patkowski, R. A. King, E. F. Valeev,\n",
      "\n",
      "    F. A. Evangelista, J. M. Turney, T. D. Crawford, and C. D. Sherrill,\n",
      "\n",
      "    J. Chem. Theory Comput. in press (2017).\n",
      "\n",
      "    (doi: 10.1021/acs.jctc.7b00174)\n",
      "\n",
      "\n",
      "\n",
      "    -----------------------------------------------------------------------\n",
      "\n",
      "\n",
      "\n",
      "\n",
      "\n",
      "    Psi4 started on: Tuesday, 27 June 2017 12:10PM\n",
      "\n",
      "\n",
      "\n",
      "    Process ID:  10591\n",
      "\n",
      "    PSIDATADIR: /Users/armcdona/psi4conda/share/psi4\n",
      "\n",
      "    Memory:     500.0 MiB\n",
      "\n",
      "    Threads:    1\n",
      "\n",
      "    \n",
      "\n",
      "  ==> Input File <==\n",
      "\n",
      "\n",
      "\n",
      "--------------------------------------------------------------------------\n",
      "\n",
      "#! You can write anything you want; this is a test\n",
      "\n",
      "\n",
      "\n",
      "molecule ethanol {\n",
      "\n",
      "H        0.011242      0.005860      0.004848\n",
      "\n",
      "C       -0.013516     -0.004055      1.099557\n",
      "\n",
      "H        1.026838      0.005859      1.441119\n",
      "\n",
      "H       -0.508712      0.905913      1.449714\n",
      "\n",
      "C       -0.729377     -1.238026      1.605747\n",
      "\n",
      "H       -1.761756     -1.258491      1.244036\n",
      "\n",
      "H       -0.732480     -1.258491      2.699654\n",
      "\n",
      "O       -0.054692     -2.392519      1.128673\n",
      "\n",
      "H       -0.536299     -3.165575      1.469220\n",
      "\n",
      "}\n",
      "\n",
      "\n",
      "\n",
      "set basis cc-pVDZ\n",
      "\n",
      "energy('scf')--------------------------------------------------------------------------\n",
      "\n",
      "\n",
      "\n",
      "*** tstart() called on csm-armcdona-m1\n",
      "\n",
      "*** at Tue Jun 27 12:10:00 2017\n",
      "\n",
      "\n",
      "\n",
      "   => Loading Basis Set <=\n",
      "\n",
      "\n",
      "\n",
      "    Name: CC-PVDZ\n",
      "\n",
      "    Role: ORBITAL\n",
      "\n",
      "    Keyword: BASIS\n",
      "\n",
      "    atoms 1, 3-4, 6-7, 9 entry H          line    20 file /Users/armcdona/psi4conda/share/psi4/basis/cc-pvdz.gbs \n",
      "\n",
      "    atoms 2, 5           entry C          line   130 file /Users/armcdona/psi4conda/share/psi4/basis/cc-pvdz.gbs \n",
      "\n",
      "    atoms 8              entry O          line   190 file /Users/armcdona/psi4conda/share/psi4/basis/cc-pvdz.gbs \n",
      "\n",
      "\n",
      "\n",
      "    There are an even number of electrons - assuming singlet.\n",
      "\n",
      "    Specify the multiplicity in the molecule input block.\n",
      "\n",
      "\n",
      "\n",
      "\n",
      "\n",
      "         ---------------------------------------------------------\n",
      "\n",
      "                                   SCF\n",
      "\n",
      "            by Justin Turney, Rob Parrish, and Andy Simmonett\n",
      "\n",
      "                              RHF Reference\n",
      "\n",
      "                        1 Threads,    500 MiB Core\n",
      "\n",
      "         ---------------------------------------------------------\n",
      "\n",
      "\n",
      "\n",
      "  ==> Geometry <==\n",
      "\n",
      "\n",
      "\n",
      "    Molecular point group: c1\n",
      "\n",
      "    Full point group: C1\n",
      "\n",
      "\n",
      "\n",
      "    Geometry (in Angstrom), charge = 0, multiplicity = 1:\n",
      "\n",
      "\n",
      "\n",
      "       Center              X                  Y                   Z               Mass       \n",
      "\n",
      "    ------------   -----------------  -----------------  -----------------  -----------------\n",
      "\n",
      "           H          0.278612764252     1.265047047666    -1.274211449480     1.007825032070\n",
      "\n",
      "           C          0.253854764252     1.255132047666    -0.179502449480    12.000000000000\n",
      "\n",
      "           H          1.294208764252     1.265046047666     0.162059550520     1.007825032070\n",
      "\n",
      "           H         -0.241341235748     2.165100047666     0.170654550520     1.007825032070\n",
      "\n",
      "           C         -0.462006235748     0.021161047666     0.326687550520    12.000000000000\n",
      "\n",
      "           H         -1.494385235748     0.000696047666    -0.035023449480     1.007825032070\n",
      "\n",
      "           H         -0.465109235748     0.000696047666     1.420594550520     1.007825032070\n",
      "\n",
      "           O          0.212678764252    -1.133331952334    -0.150386449480    15.994914619560\n",
      "\n",
      "           H         -0.268928235748    -1.906387952334     0.190160550520     1.007825032070\n",
      "\n",
      "\n",
      "\n",
      "  Running in c1 symmetry.\n",
      "\n",
      "\n",
      "\n",
      "  Rotational constants: A =      1.19639  B =      0.31014  C =      0.27136 [cm^-1]\n",
      "\n",
      "  Rotational constants: A =  35866.92932  B =   9297.74675  C =   8135.03541 [MHz]\n",
      "\n",
      "  Nuclear repulsion =   81.804973313181932\n",
      "\n",
      "\n",
      "\n",
      "  Charge       = 0\n",
      "\n",
      "  Multiplicity = 1\n",
      "\n",
      "  Electrons    = 26\n",
      "\n",
      "  Nalpha       = 13\n",
      "\n",
      "  Nbeta        = 13\n",
      "\n",
      "\n",
      "\n",
      "  ==> Algorithm <==\n",
      "\n",
      "\n",
      "\n",
      "  SCF Algorithm Type is DF.\n",
      "\n",
      "  DIIS enabled.\n",
      "\n",
      "  MOM disabled.\n",
      "\n",
      "  Fractional occupation disabled.\n",
      "\n",
      "  Guess Type is SAD.\n",
      "\n",
      "  Energy threshold   = 1.00e-06\n",
      "\n",
      "  Density threshold  = 1.00e-06\n",
      "\n",
      "  Integral threshold = 0.00e+00\n",
      "\n",
      "\n",
      "\n",
      "  ==> Primary Basis <==\n",
      "\n",
      "\n",
      "\n",
      "  Basis Set: CC-PVDZ\n",
      "\n",
      "    Blend: CC-PVDZ\n",
      "\n",
      "    Number of shells: 36\n",
      "\n",
      "    Number of basis function: 72\n",
      "\n",
      "    Number of Cartesian functions: 75\n",
      "\n",
      "    Spherical Harmonics?: true\n",
      "\n",
      "    Max angular momentum: 2\n",
      "\n",
      "\n",
      "\n",
      "   => Loading Basis Set <=\n",
      "\n",
      "\n",
      "\n",
      "    Name: (CC-PVDZ AUX)\n",
      "\n",
      "    Role: JKFIT\n",
      "\n",
      "    Keyword: DF_BASIS_SCF\n",
      "\n",
      "    atoms 1, 3-4, 6-7, 9 entry H          line    50 file /Users/armcdona/psi4conda/share/psi4/basis/cc-pvdz-jkfit.gbs \n",
      "\n",
      "    atoms 2, 5           entry C          line   120 file /Users/armcdona/psi4conda/share/psi4/basis/cc-pvdz-jkfit.gbs \n",
      "\n",
      "    atoms 8              entry O          line   220 file /Users/armcdona/psi4conda/share/psi4/basis/cc-pvdz-jkfit.gbs \n",
      "\n",
      "\n",
      "\n",
      "  ==> Pre-Iterations <==\n",
      "\n",
      "\n",
      "\n",
      "   -------------------------------------------------------\n",
      "\n",
      "    Irrep   Nso     Nmo     Nalpha   Nbeta   Ndocc  Nsocc\n",
      "\n",
      "   -------------------------------------------------------\n",
      "\n",
      "     A         72      72       0       0       0       0\n",
      "\n",
      "   -------------------------------------------------------\n",
      "\n",
      "    Total      72      72      13      13      13       0\n",
      "\n",
      "   -------------------------------------------------------\n",
      "\n",
      "\n",
      "\n",
      "  ==> Integral Setup <==\n",
      "\n",
      "\n",
      "\n",
      "  ==> DFJK: Density-Fitted J/K Matrices <==\n",
      "\n",
      "\n",
      "\n",
      "    J tasked:                  Yes\n",
      "\n",
      "    K tasked:                  Yes\n",
      "\n",
      "    wK tasked:                  No\n",
      "\n",
      "    OpenMP threads:              1\n",
      "\n",
      "    Integrals threads:           1\n",
      "\n",
      "    Memory (MB):               375\n",
      "\n",
      "    Algorithm:                Core\n",
      "\n",
      "    Integral Cache:           NONE\n",
      "\n",
      "    Schwarz Cutoff:          1E-12\n",
      "\n",
      "    Fitting Condition:       1E-12\n",
      "\n",
      "\n",
      "\n",
      "   => Auxiliary Basis Set <=\n",
      "\n",
      "\n",
      "\n",
      "  Basis Set: (CC-PVDZ AUX)\n",
      "\n",
      "    Blend: CC-PVDZ-JKFIT\n",
      "\n",
      "    Number of shells: 126\n",
      "\n",
      "    Number of basis function: 348\n",
      "\n",
      "    Number of Cartesian functions: 393\n",
      "\n",
      "    Spherical Harmonics?: true\n",
      "\n",
      "    Max angular momentum: 3\n",
      "\n",
      "\n",
      "\n",
      "  Minimum eigenvalue in the overlap matrix is 6.1615207161E-03.\n",
      "\n",
      "  Using Symmetric Orthogonalization.\n",
      "\n",
      "\n",
      "\n",
      "  SCF Guess: Superposition of Atomic Densities via on-the-fly atomic UHF.\n",
      "\n",
      "\n",
      "\n",
      "  ==> Iterations <==\n",
      "\n",
      "\n",
      "\n",
      "                           Total Energy        Delta E     RMS |[F,P]|\n",
      "\n",
      "\n",
      "\n",
      "   @DF-RHF iter   0:  -155.10365249375823   -1.55104e+02   4.53015e-02 \n",
      "\n",
      "   @DF-RHF iter   1:  -154.01069491612421    1.09296e+00   4.72706e-03 \n",
      "\n",
      "   @DF-RHF iter   2:  -154.08072318140574   -7.00283e-02   1.85857e-03 DIIS\n",
      "\n",
      "   @DF-RHF iter   3:  -154.08948719255255   -8.76401e-03   6.74889e-04 DIIS\n",
      "\n",
      "   @DF-RHF iter   4:  -154.09117177055145   -1.68458e-03   1.58963e-04 DIIS\n",
      "\n",
      "   @DF-RHF iter   5:  -154.09128893560870   -1.17165e-04   4.54749e-05 DIIS\n",
      "\n",
      "   @DF-RHF iter   6:  -154.09130079349944   -1.18579e-05   1.31995e-05 DIIS\n",
      "\n",
      "   @DF-RHF iter   7:  -154.09130170057145   -9.07072e-07   2.83994e-06 DIIS\n",
      "\n",
      "   @DF-RHF iter   8:  -154.09130176573018   -6.51587e-08   7.05545e-07 DIIS\n",
      "\n",
      "\n",
      "\n",
      "  ==> Post-Iterations <==\n",
      "\n",
      "\n",
      "\n",
      "    Orbital Energies (a.u.)\n",
      "\n",
      "    -----------------------\n",
      "\n",
      "\n",
      "\n",
      "    Doubly Occupied:                                                      \n",
      "\n",
      "\n",
      "\n",
      "       1A    -20.546800     2A    -11.275095     3A    -11.219194  \n",
      "\n",
      "       4A     -1.348904     5A     -1.008482     6A     -0.830928  \n",
      "\n",
      "       7A     -0.687787     8A     -0.642241     9A     -0.566722  \n",
      "\n",
      "      10A     -0.530314    11A     -0.519527    12A     -0.481883  \n",
      "\n",
      "      13A     -0.433845  \n",
      "\n",
      "\n",
      "\n",
      "    Virtual:                                                              \n",
      "\n",
      "\n",
      "\n",
      "      14A      0.180940    15A      0.215018    16A      0.246070  \n",
      "\n",
      "      17A      0.251127    18A      0.267963    19A      0.292938  \n",
      "\n",
      "      20A      0.381996    21A      0.396231    22A      0.603706  \n",
      "\n",
      "      23A      0.615847    24A      0.664225    25A      0.752044  \n",
      "\n",
      "      26A      0.757291    27A      0.804155    28A      0.864841  \n",
      "\n",
      "      29A      0.872855    30A      0.889502    31A      0.896591  \n",
      "\n",
      "      32A      0.907855    33A      0.940941    34A      1.131195  \n",
      "\n",
      "      35A      1.155522    36A      1.172297    37A      1.258058  \n",
      "\n",
      "      38A      1.331160    39A      1.426371    40A      1.468358  \n",
      "\n",
      "      41A      1.517174    42A      1.567678    43A      1.599506  \n",
      "\n",
      "      44A      1.691808    45A      1.783132    46A      1.866083  \n",
      "\n",
      "      47A      1.890906    48A      1.892378    49A      1.915291  \n",
      "\n",
      "      50A      1.939375    51A      1.972358    52A      1.983727  \n",
      "\n",
      "      53A      2.003589    54A      2.100718    55A      2.199911  \n",
      "\n",
      "      56A      2.243703    57A      2.282336    58A      2.316926  \n",
      "\n",
      "      59A      2.469974    60A      2.516843    61A      2.524986  \n",
      "\n",
      "      62A      2.586064    63A      2.756948    64A      2.775491  \n",
      "\n",
      "      65A      2.808122    66A      2.899507    67A      2.915802  \n",
      "\n",
      "      68A      3.330513    69A      3.407987    70A      3.474254  \n",
      "\n",
      "      71A      3.601498    72A      4.107129  \n",
      "\n",
      "\n",
      "\n",
      "    Final Occupation by Irrep:\n",
      "\n",
      "              A \n",
      "\n",
      "    DOCC [    13 ]\n",
      "\n",
      "\n",
      "\n",
      "  Energy converged.\n",
      "\n",
      "\n",
      "\n",
      "  @DF-RHF Final Energy:  -154.09130176573018\n",
      "\n",
      "\n",
      "\n",
      "   => Energetics <=\n",
      "\n",
      "\n",
      "\n",
      "    Nuclear Repulsion Energy =             81.8049733131819323\n",
      "\n",
      "    One-Electron Energy =                -371.6091065733360210\n",
      "\n",
      "    Two-Electron Energy =                 135.7128314944239378\n",
      "\n",
      "    DFT Exchange-Correlation Energy =       0.0000000000000000\n",
      "\n",
      "    Empirical Dispersion Energy =           0.0000000000000000\n",
      "\n",
      "    PCM Polarization Energy =               0.0000000000000000\n",
      "\n",
      "    EFP Energy =                            0.0000000000000000\n",
      "\n",
      "    Total Energy =                       -154.0913017657301793\n",
      "\n",
      "\n",
      "\n",
      "\n",
      "\n",
      "\n",
      "\n",
      "Properties will be evaluated at   0.000000,   0.000000,   0.000000 Bohr\n",
      "\n",
      "\n",
      "\n",
      "Properties computed using the SCF density matrix\n",
      "\n",
      "\n",
      "\n",
      "  Nuclear Dipole Moment: (a.u.)\n",
      "\n",
      "     X:    -0.8398      Y:     2.6103      Z:     0.5939\n",
      "\n",
      "\n",
      "\n",
      "  Electronic Dipole Moment: (a.u.)\n",
      "\n",
      "     X:     0.2905      Y:    -2.6019      Z:    -0.2054\n",
      "\n",
      "\n",
      "\n",
      "  Dipole Moment: (a.u.)\n",
      "\n",
      "     X:    -0.5493      Y:     0.0084      Z:     0.3884     Total:     0.6728\n",
      "\n",
      "\n",
      "\n",
      "  Dipole Moment: (Debye)\n",
      "\n",
      "     X:    -1.3962      Y:     0.0213      Z:     0.9873     Total:     1.7101\n",
      "\n",
      "\n",
      "\n",
      "\n",
      "\n",
      "*** tstop() called on csm-armcdona-m1 at Tue Jun 27 12:10:01 2017\n",
      "\n",
      "Module time:\n",
      "\n",
      "\tuser time   =       1.10 seconds =       0.02 minutes\n",
      "\n",
      "\tsystem time =       0.06 seconds =       0.00 minutes\n",
      "\n",
      "\ttotal time  =          1 seconds =       0.02 minutes\n",
      "\n",
      "Total time:\n",
      "\n",
      "\tuser time   =       1.10 seconds =       0.02 minutes\n",
      "\n",
      "\tsystem time =       0.06 seconds =       0.00 minutes\n",
      "\n",
      "\ttotal time  =          1 seconds =       0.02 minutes\n",
      "\n",
      "\n",
      "\n",
      "*** Psi4 exiting successfully. Buy a developer a beer!\n",
      "\n"
     ]
    }
   ],
   "source": [
    "for line in data:\n",
    "    print(line)"
   ]
  },
  {
   "cell_type": "code",
   "execution_count": 11,
   "metadata": {},
   "outputs": [
    {
     "name": "stdout",
     "output_type": "stream",
     "text": [
      "  @DF-RHF Final Energy:  -154.09130176573018\n",
      "\n"
     ]
    }
   ],
   "source": [
    "for line in data:\n",
    "    if 'Final Energy' in line:\n",
    "        energy_line=line\n",
    "        print(energy_line)"
   ]
  },
  {
   "cell_type": "code",
   "execution_count": 12,
   "metadata": {},
   "outputs": [
    {
     "data": {
      "text/plain": [
       "['@DF-RHF', 'Final', 'Energy:', '-154.09130176573018']"
      ]
     },
     "execution_count": 12,
     "metadata": {},
     "output_type": "execute_result"
    }
   ],
   "source": [
    "energy_line.split()\n"
   ]
  },
  {
   "cell_type": "code",
   "execution_count": 13,
   "metadata": {},
   "outputs": [
    {
     "data": {
      "text/plain": [
       "['  @DF-RHF Final Energy', '  -154.09130176573018\\n']"
      ]
     },
     "execution_count": 13,
     "metadata": {},
     "output_type": "execute_result"
    }
   ],
   "source": [
    "energy_line.split(':')"
   ]
  },
  {
   "cell_type": "code",
   "execution_count": 14,
   "metadata": {},
   "outputs": [
    {
     "name": "stdout",
     "output_type": "stream",
     "text": [
      "['@DF-RHF', 'Final', 'Energy:', '-154.09130176573018']\n"
     ]
    }
   ],
   "source": [
    "words = energy_line.split()\n",
    "print(words)"
   ]
  },
  {
   "cell_type": "code",
   "execution_count": 15,
   "metadata": {},
   "outputs": [
    {
     "name": "stdout",
     "output_type": "stream",
     "text": [
      "-154.09130176573018\n"
     ]
    }
   ],
   "source": [
    "energy = words [3]\n",
    "print(energy)"
   ]
  },
  {
   "cell_type": "code",
   "execution_count": 16,
   "metadata": {},
   "outputs": [
    {
     "name": "stdout",
     "output_type": "stream",
     "text": [
      "-154.09130176573018\n"
     ]
    }
   ],
   "source": [
    "energy = words[-1]\n",
    "print(energy)"
   ]
  },
  {
   "cell_type": "code",
   "execution_count": 17,
   "metadata": {},
   "outputs": [
    {
     "ename": "TypeError",
     "evalue": "can only concatenate str (not \"int\") to str",
     "output_type": "error",
     "traceback": [
      "\u001b[0;31m---------------------------------------------------------------------------\u001b[0m",
      "\u001b[0;31mTypeError\u001b[0m                                 Traceback (most recent call last)",
      "\u001b[0;32m<ipython-input-17-7bda8dd3f95d>\u001b[0m in \u001b[0;36m<module>\u001b[0;34m\u001b[0m\n\u001b[0;32m----> 1\u001b[0;31m \u001b[0menergy\u001b[0m \u001b[0;34m+\u001b[0m \u001b[0;36m50\u001b[0m\u001b[0;34m\u001b[0m\u001b[0;34m\u001b[0m\u001b[0m\n\u001b[0m",
      "\u001b[0;31mTypeError\u001b[0m: can only concatenate str (not \"int\") to str"
     ]
    }
   ],
   "source": [
    "energy + 50"
   ]
  },
  {
   "cell_type": "code",
   "execution_count": 18,
   "metadata": {},
   "outputs": [],
   "source": [
    "energy = float(energy)"
   ]
  },
  {
   "cell_type": "code",
   "execution_count": 19,
   "metadata": {},
   "outputs": [
    {
     "data": {
      "text/plain": [
       "'/Users/Vaishnavi_Home/Desktop/cms-workshop'"
      ]
     },
     "execution_count": 19,
     "metadata": {},
     "output_type": "execute_result"
    }
   ],
   "source": [
    "pwd"
   ]
  },
  {
   "cell_type": "code",
   "execution_count": 20,
   "metadata": {},
   "outputs": [
    {
     "name": "stdout",
     "output_type": "stream",
     "text": [
      "03_Prod.mdout              buckminsterfullerene.xyz\r\n",
      "Untitled.ipynb             distance_data_headers.csv\r\n",
      "Untitled1.ipynb            \u001b[34moutfiles\u001b[m\u001b[m/\r\n",
      "Untitled2.ipynb            sapt.out\r\n",
      "benzene.xyz                water.xyz\r\n"
     ]
    }
   ],
   "source": [
    "ls data"
   ]
  },
  {
   "cell_type": "code",
   "execution_count": 21,
   "metadata": {},
   "outputs": [
    {
     "name": "stdout",
     "output_type": "stream",
     "text": [
      "Untitled.ipynb   Untitled1.ipynb  Untitled2.ipynb  \u001b[34mdata\u001b[m\u001b[m/\r\n"
     ]
    }
   ],
   "source": [
    "ls"
   ]
  },
  {
   "cell_type": "code",
   "execution_count": 28,
   "metadata": {},
   "outputs": [
    {
     "ename": "NameError",
     "evalue": "name 'sapt' is not defined",
     "output_type": "error",
     "traceback": [
      "\u001b[0;31m---------------------------------------------------------------------------\u001b[0m",
      "\u001b[0;31mNameError\u001b[0m                                 Traceback (most recent call last)",
      "\u001b[0;32m<ipython-input-28-4d150fbb076d>\u001b[0m in \u001b[0;36m<module>\u001b[0;34m\u001b[0m\n\u001b[1;32m      1\u001b[0m \u001b[0;32mimport\u001b[0m \u001b[0mos\u001b[0m\u001b[0;34m\u001b[0m\u001b[0;34m\u001b[0m\u001b[0m\n\u001b[1;32m      2\u001b[0m \u001b[0;34m\u001b[0m\u001b[0m\n\u001b[0;32m----> 3\u001b[0;31m \u001b[0msapt\u001b[0m\u001b[0;34m.\u001b[0m\u001b[0mout\u001b[0m \u001b[0;34m=\u001b[0m \u001b[0mos\u001b[0m\u001b[0;34m.\u001b[0m\u001b[0mpath\u001b[0m\u001b[0;34m.\u001b[0m\u001b[0mjoin\u001b[0m\u001b[0;34m(\u001b[0m\u001b[0;34m'data'\u001b[0m\u001b[0;34m,\u001b[0m \u001b[0;34m'sapt.out'\u001b[0m\u001b[0;34m)\u001b[0m\u001b[0;34m\u001b[0m\u001b[0;34m\u001b[0m\u001b[0m\n\u001b[0m\u001b[1;32m      4\u001b[0m \u001b[0mprint\u001b[0m\u001b[0;34m(\u001b[0m\u001b[0msapt\u001b[0m\u001b[0;34m.\u001b[0m\u001b[0mout\u001b[0m\u001b[0;34m)\u001b[0m\u001b[0;34m\u001b[0m\u001b[0;34m\u001b[0m\u001b[0m\n",
      "\u001b[0;31mNameError\u001b[0m: name 'sapt' is not defined"
     ]
    }
   ],
   "source": [
    "import os\n",
    "\n",
    "sapt.out = os.path.join('data', 'sapt.out')\n",
    "print(sapt.out)"
   ]
  },
  {
   "cell_type": "code",
   "execution_count": 29,
   "metadata": {},
   "outputs": [
    {
     "name": "stdout",
     "output_type": "stream",
     "text": [
      "03_Prod.mdout              buckminsterfullerene.xyz\r\n",
      "Untitled.ipynb             distance_data_headers.csv\r\n",
      "Untitled1.ipynb            \u001b[34moutfiles\u001b[m\u001b[m/\r\n",
      "Untitled2.ipynb            sapt.out\r\n",
      "benzene.xyz                water.xyz\r\n"
     ]
    }
   ],
   "source": [
    "ls data"
   ]
  },
  {
   "cell_type": "code",
   "execution_count": 30,
   "metadata": {},
   "outputs": [
    {
     "name": "stdout",
     "output_type": "stream",
     "text": [
      "/Users/Vaishnavi_Home/Desktop/cms-workshop/data\n"
     ]
    }
   ],
   "source": [
    "cd data"
   ]
  },
  {
   "cell_type": "code",
   "execution_count": 31,
   "metadata": {},
   "outputs": [
    {
     "name": "stdout",
     "output_type": "stream",
     "text": [
      "03_Prod.mdout              buckminsterfullerene.xyz\r\n",
      "Untitled.ipynb             distance_data_headers.csv\r\n",
      "Untitled1.ipynb            \u001b[34moutfiles\u001b[m\u001b[m/\r\n",
      "Untitled2.ipynb            sapt.out\r\n",
      "benzene.xyz                water.xyz\r\n"
     ]
    }
   ],
   "source": [
    "ls "
   ]
  },
  {
   "cell_type": "code",
   "execution_count": 33,
   "metadata": {},
   "outputs": [
    {
     "name": "stdout",
     "output_type": "stream",
     "text": [
      "['    Electrostatics                 -3.59915058 [mEh]      -2.25850118 [kcal/mol]      -9.44956984 [kJ/mol]\\n', '    Exchange                        3.62911156 [mEh]       2.27730198 [kcal/mol]       9.52823241 [kJ/mol]\\n', '    Induction                      -0.83137115 [mEh]      -0.52169330 [kcal/mol]      -2.18276496 [kJ/mol]\\n', '    Dispersion                     -1.50542374 [mEh]      -0.94466770 [kcal/mol]      -3.95249003 [kJ/mol]\\n']\n"
     ]
    }
   ],
   "source": [
    "important_lines = []\n",
    "energies = []\n",
    "\n",
    "with open('SAPT.out','r') as saptout:\n",
    "    for line in saptout:\n",
    "        if 'Electrostatics    ' in line:\n",
    "            electro_line = line\n",
    "            important_lines.append(electro_line)\n",
    "        if 'Exchange       ' in line:\n",
    "            exchange_line = line\n",
    "            important_lines.append(exchange_line)\n",
    "        if 'Induction      ' in line:\n",
    "            induction_line = line\n",
    "            important_lines.append(induction_line)\n",
    "        if 'Dispersion     ' in line:\n",
    "            dispersion_line = line\n",
    "            important_lines.append(dispersion_line)\n",
    "print(important_lines)"
   ]
  },
  {
   "cell_type": "code",
   "execution_count": 36,
   "metadata": {},
   "outputs": [
    {
     "name": "stdout",
     "output_type": "stream",
     "text": [
      "Electrostatics:-2.25850118 kcal/mol\n",
      "Exchange:2.27730198 kcal/mol\n",
      "Induction:-0.5216933 kcal/mol\n",
      "Dispersion:-0.9446677 kcal/mol\n",
      "Total Energy:-2.8951204000000006 kcal/mol\n"
     ]
    }
   ],
   "source": [
    "for line in important_lines:\n",
    "    words = line.split()\n",
    "    energy_type = words[0]\n",
    "    energy_kcal=float(words[3])\n",
    "    energies.append(energy_kcal)\n",
    "    print('{}:{} kcal/mol'.format(energy_type, energy_kcal))\n",
    "total_energy=sum(energies)\n",
    "print('Total Energy:{} kcal/mol'.format(total_energy))"
   ]
  },
  {
   "cell_type": "code",
   "execution_count": 37,
   "metadata": {},
   "outputs": [
    {
     "name": "stdout",
     "output_type": "stream",
     "text": [
      "77\n",
      "       Center              X                  Y                   Z               Mass       \n",
      "\n"
     ]
    }
   ],
   "source": [
    "for linenum, line in enumerate(data):\n",
    "    if 'Center' in line:\n",
    "        print(linenum)\n",
    "        print(line)"
   ]
  },
  {
   "cell_type": "code",
   "execution_count": 41,
   "metadata": {},
   "outputs": [
    {
     "name": "stdout",
     "output_type": "stream",
     "text": [
      "/\n"
     ]
    }
   ],
   "source": [
    "cd //"
   ]
  },
  {
   "cell_type": "code",
   "execution_count": 42,
   "metadata": {},
   "outputs": [
    {
     "data": {
      "text/plain": [
       "'/'"
      ]
     },
     "execution_count": 42,
     "metadata": {},
     "output_type": "execute_result"
    }
   ],
   "source": [
    "pwd"
   ]
  },
  {
   "cell_type": "code",
   "execution_count": 43,
   "metadata": {},
   "outputs": [
    {
     "name": "stdout",
     "output_type": "stream",
     "text": [
      "/Users/Vaishnavi_Home/Desktop/cms-workshop\n"
     ]
    }
   ],
   "source": [
    "cd /Users/Vaishnavi_Home/Desktop/cms-workshop"
   ]
  },
  {
   "cell_type": "code",
   "execution_count": 45,
   "metadata": {},
   "outputs": [
    {
     "name": "stdout",
     "output_type": "stream",
     "text": [
      "data/outfiles/*.out\n"
     ]
    }
   ],
   "source": [
    "file_location = os.path.join('data', 'outfiles', '*.out')\n",
    "print(file_location)"
   ]
  },
  {
   "cell_type": "code",
   "execution_count": 46,
   "metadata": {},
   "outputs": [
    {
     "name": "stdout",
     "output_type": "stream",
     "text": [
      "['data/outfiles/propanol.out', 'data/outfiles/pentanol.out', 'data/outfiles/decanol.out', 'data/outfiles/methanol.out', 'data/outfiles/octanol.out', 'data/outfiles/ethanol.out', 'data/outfiles/hexanol.out', 'data/outfiles/heptanol.out', 'data/outfiles/butanol.out', 'data/outfiles/nonanol.out']\n"
     ]
    }
   ],
   "source": [
    "import glob \n",
    "filenames = glob.glob(file_location)\n",
    "print(filenames)"
   ]
  },
  {
   "cell_type": "code",
   "execution_count": 72,
   "metadata": {},
   "outputs": [
    {
     "name": "stdout",
     "output_type": "stream",
     "text": [
      "propanol -193.12836249728798\n",
      "pentanol -271.20138119895074\n",
      "decanol -466.3836241400086\n",
      "methanol -115.04800861868374\n",
      "octanol -388.3110864554743\n",
      "ethanol -154.09130176573018\n",
      "hexanol -310.2385332251633\n",
      "heptanol -349.27397687072676\n",
      "butanol -232.1655798347283\n",
      "nonanol -427.3465180082815\n"
     ]
    }
   ],
   "source": [
    "for f in filenames:\n",
    "    # Get the molecule name\n",
    "    file_name = os.path.basename(f)\n",
    "    split_filename = file_name.split('.')\n",
    "    molecule_name = split_filename[0]\n",
    "\n",
    "    # Read the data\n",
    "    outfile = open(f,'r')\n",
    "    data = outfile.readlines()\n",
    "    outfile.close()\n",
    "\n",
    "    # Loop through the data\n",
    "    for line in data:\n",
    "        if 'Final Energy' in line:\n",
    "            energy_line = line\n",
    "            words = energy_line.split()\n",
    "            energy = float(words[3])\n",
    "            print(molecule_name, energy)"
   ]
  },
  {
   "cell_type": "code",
   "execution_count": 75,
   "metadata": {},
   "outputs": [],
   "source": [
    "datafile = open('energies.txt','w+')  #This opens the file for writing\n",
    "for f in filenames:\n",
    "    # Get the molecule name\n",
    "    file_name = os.path.basename(f)\n",
    "    split_filename = file_name.split('.')\n",
    "    molecule_name = split_filename[0]\n",
    "\n",
    "    # Read the data\n",
    "    outfile = open(f,'r')\n",
    "    data = outfile.readlines()\n",
    "    outfile.close()\n",
    "\n",
    "    # Loop through the data\n",
    "    for line in data:\n",
    "        if 'Final Energy' in line:\n",
    "            energy_line = line\n",
    "            words = energy_line.split()\n",
    "            energy = float(words[3])\n",
    "            datafile.write(F'{molecule_name} \\t {energy} \\n')\n",
    "datafile.close()"
   ]
  },
  {
   "cell_type": "code",
   "execution_count": 76,
   "metadata": {},
   "outputs": [
    {
     "name": "stdout",
     "output_type": "stream",
     "text": [
      "Untitled.ipynb   Untitled2.ipynb  energies.txt\r\n",
      "Untitled1.ipynb  \u001b[34mdata\u001b[m\u001b[m/            file_name.txt\r\n"
     ]
    }
   ],
   "source": [
    "ls"
   ]
  },
  {
   "cell_type": "code",
   "execution_count": 90,
   "metadata": {},
   "outputs": [
    {
     "name": "stdout",
     "output_type": "stream",
     "text": [
      "[Errno 2] No such file or directory: 'Desktop/cms-workshop'\n",
      "/Users/Vaishnavi_Home/Desktop\n"
     ]
    }
   ],
   "source": [
    "cd Desktop/cms-workshop"
   ]
  },
  {
   "cell_type": "code",
   "execution_count": 92,
   "metadata": {},
   "outputs": [
    {
     "name": "stdout",
     "output_type": "stream",
     "text": [
      "[Errno 2] No such file or directory: 'Desktop'\n",
      "/Users/Vaishnavi_Home/Desktop\n"
     ]
    }
   ],
   "source": [
    "cd Desktop"
   ]
  },
  {
   "cell_type": "code",
   "execution_count": 93,
   "metadata": {},
   "outputs": [
    {
     "name": "stdout",
     "output_type": "stream",
     "text": [
      "/Users/Vaishnavi_Home/Desktop/cms-workshop\n"
     ]
    }
   ],
   "source": [
    "cd cms-workshop"
   ]
  },
  {
   "cell_type": "code",
   "execution_count": 98,
   "metadata": {},
   "outputs": [
    {
     "name": "stdout",
     "output_type": "stream",
     "text": [
      "-4585.1049\n",
      "-4573.5326\n",
      "-4548.1223\n",
      "-4525.3410\n",
      "-4542.8995\n",
      "-4550.9376\n",
      "-4543.8652\n",
      "-4570.4109\n",
      "-4550.4225\n",
      "-4585.2078\n",
      "-4577.3788\n",
      "-4583.5594\n",
      "-4605.5086\n",
      "-4615.4200\n",
      "-4583.6069\n",
      "-4534.2492\n",
      "-4571.4911\n",
      "-4580.2937\n",
      "-4555.4327\n",
      "-4567.5687\n",
      "-4566.0038\n",
      "-4547.9737\n",
      "-4603.6717\n",
      "-4611.0889\n",
      "-4694.2189\n",
      "-4678.6558\n",
      "-4679.2889\n",
      "-4650.4214\n",
      "-4637.4849\n",
      "-4677.2461\n",
      "-4659.6974\n",
      "-4592.8300\n",
      "-4622.1237\n",
      "-4626.0868\n",
      "-4614.5996\n",
      "-4625.5348\n",
      "-4569.7752\n",
      "-4625.0792\n",
      "-4653.4614\n",
      "-4637.6852\n",
      "-4643.8673\n",
      "-4619.5255\n",
      "-4663.3843\n",
      "-4631.8386\n",
      "-4680.3524\n",
      "-4722.1579\n",
      "-4696.5022\n",
      "-4729.6126\n",
      "-4703.1835\n",
      "-4707.8668\n",
      "-4660.0768\n",
      "-4673.0967\n",
      "-4656.3795\n",
      "-4627.9210\n",
      "-4599.7806\n",
      "-4648.8831\n",
      "-4649.4773\n",
      "-4665.3345\n",
      "-4693.9727\n",
      "-4726.4832\n",
      "-4744.9909\n",
      "-4788.9469\n",
      "-4724.8673\n",
      "-4724.9143\n",
      "-4685.3320\n",
      "-4721.0018\n",
      "-4755.1232\n",
      "-4810.7441\n",
      "-4796.7949\n",
      "-4737.2496\n",
      "-4735.1629\n",
      "-4733.8855\n",
      "-4781.2227\n",
      "-4789.1473\n",
      "-4813.7562\n",
      "-4817.4775\n",
      "-4822.1009\n",
      "-4788.4856\n",
      "-4816.5778\n",
      "-4843.6187\n",
      "-4867.3389\n",
      "-4829.6258\n",
      "-4839.4063\n",
      "-4856.7404\n",
      "-4827.9999\n",
      "-4789.4960\n",
      "-4807.4737\n",
      "-4822.8427\n",
      "-4841.7963\n",
      "-4852.5445\n",
      "-4794.1774\n",
      "-4795.4408\n",
      "-4843.1092\n",
      "-4861.5219\n",
      "-4861.1394\n",
      "-4874.9262\n",
      "-4895.8931\n",
      "-4925.8895\n",
      "-4973.8736\n",
      "-4988.7908\n",
      "-4945.5981\n",
      "-4916.3219\n",
      "-4921.4063\n",
      "-4911.1395\n",
      "-4874.5853\n",
      "-4874.5310\n",
      "-4881.8810\n",
      "-4891.6363\n",
      "-4896.9142\n",
      "-4912.6121\n",
      "-4904.3068\n",
      "-4929.8410\n",
      "-4953.1665\n",
      "-4984.0176\n",
      "-4980.7061\n",
      "-4938.8474\n",
      "-4963.1656\n",
      "-4955.5246\n",
      "-4906.5723\n",
      "-4930.7026\n",
      "-4928.7367\n",
      "-4857.1610\n",
      "-4886.8174\n",
      "-4817.6888\n",
      "-4872.9481\n",
      "-4894.4047\n",
      "-4885.6957\n",
      "-4923.2417\n",
      "-4897.3522\n",
      "-4892.6689\n",
      "-4893.3622\n",
      "-4838.7241\n",
      "-4836.7701\n",
      "-4760.9359\n",
      "-4784.3831\n",
      "-4744.1472\n",
      "-4728.4061\n",
      "-4750.2233\n",
      "-4867.9914\n",
      "-4923.5577\n",
      "-4897.1107\n",
      "-4911.9463\n",
      "-4915.2124\n",
      "-4877.7660\n",
      "-4853.0504\n",
      "-4857.4078\n",
      "-4825.9871\n",
      "-4812.0551\n",
      "-4846.6835\n",
      "-4846.4495\n",
      "-4878.3125\n",
      "-4932.9309\n",
      "-4942.1183\n",
      "-4939.3920\n",
      "-4911.1468\n",
      "-4917.1998\n",
      "-4925.0586\n",
      "-4901.7294\n",
      "-4904.7184\n",
      "-4881.9266\n",
      "-4853.0225\n",
      "-4887.5130\n",
      "-4842.1109\n",
      "-4846.9808\n",
      "-4862.7402\n",
      "-4851.7519\n",
      "-4909.4545\n",
      "-4914.8171\n",
      "-4915.2172\n",
      "-4930.1387\n",
      "-4953.7774\n",
      "-4901.9891\n",
      "-4905.8510\n",
      "-4926.3257\n",
      "-4917.3863\n",
      "-4942.2224\n",
      "-4952.2746\n",
      "-4916.1854\n",
      "-4861.9952\n",
      "-4877.2959\n",
      "-4826.5819\n",
      "-4876.5468\n",
      "-4846.8424\n",
      "-4843.3569\n",
      "-4842.7350\n",
      "-4834.5641\n",
      "-4793.4512\n",
      "-4854.0441\n",
      "-4874.9529\n",
      "-4835.5704\n",
      "-4855.0431\n",
      "-4865.4151\n",
      "-4846.5908\n",
      "-4807.5877\n",
      "-4811.5955\n",
      "-4835.6643\n",
      "-4846.6731\n",
      "-4851.4884\n",
      "-4886.9112\n",
      "-4858.1232\n",
      "-4869.2450\n",
      "-4907.4877\n",
      "-4954.8636\n",
      "-4942.2690\n",
      "-5004.3931\n",
      "-4980.6333\n",
      "-4959.0934\n",
      "-4942.9824\n",
      "-4882.6145\n",
      "-4857.1325\n",
      "-4916.5311\n",
      "-4894.3503\n",
      "-4912.1722\n",
      "-4912.5805\n",
      "-4939.9299\n",
      "-4923.4478\n",
      "-4885.8822\n",
      "-4879.1104\n",
      "-4871.2521\n",
      "-4846.9889\n",
      "-4870.2887\n",
      "-4814.2051\n",
      "-4782.7933\n",
      "-4827.9125\n",
      "-4849.4257\n",
      "-4896.8849\n",
      "-4898.4300\n",
      "-4887.3311\n",
      "-4920.3260\n",
      "-4929.5851\n",
      "-4961.0590\n",
      "-4904.5845\n",
      "-4913.8577\n",
      "-4893.3502\n",
      "-4872.0999\n",
      "-4799.1635\n",
      "-4844.1789\n",
      "-4857.2238\n",
      "-4852.7959\n",
      "-4937.0545\n",
      "-4932.0827\n",
      "-4903.7197\n",
      "-4917.5152\n",
      "-4917.0623\n",
      "-4929.6231\n",
      "-4911.2961\n",
      "-4900.8126\n",
      "-4872.0052\n",
      "-4894.1473\n",
      "-4926.5634\n",
      "-4936.8213\n",
      "-4873.3118\n",
      "-4926.9161\n",
      "-4915.6954\n",
      "-4905.3008\n",
      "-4890.1921\n",
      "-4882.1300\n",
      "-4916.5499\n",
      "-4886.9469\n",
      "-4850.5461\n",
      "-4859.8111\n",
      "-4846.7970\n",
      "-4842.1241\n",
      "-4858.2108\n",
      "-4826.8505\n",
      "-4795.8374\n",
      "-4811.9221\n",
      "-4888.6634\n",
      "-4909.6700\n",
      "-4933.4484\n",
      "-4977.5063\n",
      "-4992.3263\n",
      "-4977.7844\n",
      "-4966.7665\n",
      "-4972.1345\n",
      "-4947.9832\n",
      "-4974.7886\n",
      "-4973.9220\n",
      "-4942.2304\n",
      "-4943.4810\n",
      "-4932.4172\n",
      "-4962.9499\n",
      "-4951.6520\n",
      "-4942.7002\n",
      "-4982.3862\n",
      "-4983.9897\n",
      "-4983.2188\n",
      "-4997.9833\n",
      "-5056.4832\n",
      "-5022.3178\n",
      "-4990.2883\n",
      "-4955.9855\n",
      "-4922.5797\n",
      "-4918.2425\n",
      "-4901.2145\n",
      "-4864.5383\n",
      "-4869.5219\n",
      "-4922.5511\n",
      "-4917.4126\n",
      "-4928.8228\n",
      "-4829.8013\n",
      "120.4662\n"
     ]
    }
   ],
   "source": [
    "import os\n",
    "# Open the file for reading\n",
    "# Read the data\n",
    "filename = os.path.join('data', '03_Prod.mdout')\n",
    "f = open(filename, 'r')\n",
    "data = f.readlines()\n",
    "f.close()\n",
    "\n",
    "f_write = open('Etot.txt', 'w+')\n",
    "# loop through the lines\n",
    "for line in data:\n",
    "    split_line = line.split()\n",
    "    if 'Etot' in line:\n",
    "        print(split_line[2])\n",
    "        f_write.write(f'{split_line[2]}\\n')\n",
    "\n",
    "f_write.close()\n",
    "\n",
    "# Get info "
   ]
  },
  {
   "cell_type": "code",
   "execution_count": null,
   "metadata": {},
   "outputs": [],
   "source": []
  }
 ],
 "metadata": {
  "kernelspec": {
   "display_name": "Python 3",
   "language": "python",
   "name": "python3"
  },
  "language_info": {
   "codemirror_mode": {
    "name": "ipython",
    "version": 3
   },
   "file_extension": ".py",
   "mimetype": "text/x-python",
   "name": "python",
   "nbconvert_exporter": "python",
   "pygments_lexer": "ipython3",
   "version": "3.8.5"
  }
 },
 "nbformat": 4,
 "nbformat_minor": 4
}
